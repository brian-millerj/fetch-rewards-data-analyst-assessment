{
 "cells": [
  {
   "cell_type": "code",
   "execution_count": 1,
   "metadata": {},
   "outputs": [],
   "source": [
    "#import libraries\n",
    "import pandas as pd\n",
    "from pandas.io.json import json_normalize\n",
    "import io\n",
    "import json"
   ]
  },
  {
   "cell_type": "code",
   "execution_count": 2,
   "metadata": {},
   "outputs": [],
   "source": [
    "#writing users json to csv\n",
    "\n",
    "with open(r'C:\\Users\\Brian Miller\\Desktop\\Fetch Take Home\\users.json', encoding='utf-8') as json_file:\n",
    "    data = json.load(json_file)\n",
    "    \n",
    "users = pd.json_normalize(data['users'])\n",
    "users.to_csv(r'C:\\Users\\Brian Miller\\Desktop\\Fetch Take Home\\users.csv', index = None, header=True)"
   ]
  },
  {
   "cell_type": "code",
   "execution_count": 3,
   "metadata": {},
   "outputs": [],
   "source": [
    "#writing brands json to csv\n",
    "\n",
    "with open(r'C:\\Users\\Brian Miller\\Desktop\\Fetch Take Home\\brands.json', encoding='utf-8') as json_file:\n",
    "    data = json.load(json_file)\n",
    "    \n",
    "brands = pd.json_normalize(data['brands'])\n",
    "brands.to_csv(r'C:\\Users\\Brian Miller\\Desktop\\Fetch Take Home\\brands.csv', index = None, header=True)"
   ]
  },
  {
   "cell_type": "code",
   "execution_count": 4,
   "metadata": {},
   "outputs": [],
   "source": [
    "#writing receipts json to csv\n",
    "\n",
    "with open(r'C:\\Users\\Brian Miller\\Desktop\\Fetch Take Home\\receipts.json', encoding='utf-8') as json_file:\n",
    "    data = json.load(json_file)\n",
    "    \n",
    "receipts = pd.json_normalize(data['receipts']).drop(columns=\"rewardsReceiptItemList\")\n",
    "receipts.to_csv(r'C:\\Users\\Brian Miller\\Desktop\\Fetch Take Home\\receipts.csv', index = None, header=True)"
   ]
  },
  {
   "cell_type": "code",
   "execution_count": 5,
   "metadata": {},
   "outputs": [],
   "source": [
    "#to keep the data structure clean, separating \"rewardsReceiptItemList\" from receipts table\n",
    "#they will have a common key: _id.$oid\n",
    "\n",
    "with open(r'C:\\Users\\Brian Miller\\Desktop\\Fetch Take Home\\receipts.json', encoding='utf-8') as json_file:\n",
    "    data = json.load(json_file)\n",
    "    receiptItems = data['receipts']\n",
    "\n",
    "df = pd.json_normalize(receiptItems)\n",
    "\n",
    "receiptItems = pd.concat(\n",
    "    [df[['_id.$oid', 'rewardsReceiptItemList']], df.explode(\"rewardsReceiptItemList\")[\"rewardsReceiptItemList\"].apply(pd.Series)], axis=1\n",
    ").drop(columns=\"rewardsReceiptItemList\").reset_index(drop = True)\n",
    "\n",
    "receiptItems.to_csv(r'C:\\Users\\Brian Miller\\Desktop\\Fetch Take Home\\receiptItems.csv', index = None, header=True)"
   ]
  }
 ],
 "metadata": {
  "kernelspec": {
   "display_name": "Python 3",
   "language": "python",
   "name": "python3"
  },
  "language_info": {
   "codemirror_mode": {
    "name": "ipython",
    "version": 3
   },
   "file_extension": ".py",
   "mimetype": "text/x-python",
   "name": "python",
   "nbconvert_exporter": "python",
   "pygments_lexer": "ipython3",
   "version": "3.8.3"
  }
 },
 "nbformat": 4,
 "nbformat_minor": 4
}
